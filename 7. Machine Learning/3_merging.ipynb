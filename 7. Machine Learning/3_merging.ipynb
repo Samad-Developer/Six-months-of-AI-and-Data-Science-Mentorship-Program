{
 "cells": [
  {
   "cell_type": "code",
   "execution_count": 3,
   "metadata": {},
   "outputs": [
    {
     "name": "stdout",
     "output_type": "stream",
     "text": [
      "   ID     Name\n",
      "0   1     John\n",
      "1   2    Alice\n",
      "2   3      Bob\n",
      "3   4  Charlie\n",
      "   ID  Age\n",
      "0   1   25\n",
      "1   2   30\n",
      "2   5   35\n",
      "3   6   40\n",
      "   ID   Name  Age\n",
      "0   1   John   25\n",
      "1   2  Alice   30\n"
     ]
    }
   ],
   "source": [
    "import pandas as pd\n",
    "\n",
    "# Creating the first DataFrame\n",
    "data1 = {'ID': [1, 2, 3, 4],\n",
    "         'Name': ['John', 'Alice', 'Bob', 'Charlie']}\n",
    "df1 = pd.DataFrame(data1)\n",
    "print(df1)\n",
    "\n",
    "# Creating the second DataFrame\n",
    "data2 = {'ID': [1, 2, 5, 6],\n",
    "         'Age': [25, 30, 35, 40]}\n",
    "df2 = pd.DataFrame(data2)\n",
    "print(df2)\n",
    "\n",
    "# Merging the DataFrames based on the 'ID' column\n",
    "merged_df = pd.merge(df1, df2, on='ID', how='inner')\n",
    "\n",
    "# Displaying the merged DataFrame\n",
    "print(merged_df)"
   ]
  }
 ],
 "metadata": {
  "kernelspec": {
   "display_name": "python_ml",
   "language": "python",
   "name": "python3"
  },
  "language_info": {
   "codemirror_mode": {
    "name": "ipython",
    "version": 3
   },
   "file_extension": ".py",
   "mimetype": "text/x-python",
   "name": "python",
   "nbconvert_exporter": "python",
   "pygments_lexer": "ipython3",
   "version": "3.11.5"
  }
 },
 "nbformat": 4,
 "nbformat_minor": 2
}
