{
 "cells": [
  {
   "cell_type": "markdown",
   "metadata": {},
   "source": [
    "## **Importing Libraries**"
   ]
  },
  {
   "cell_type": "code",
   "execution_count": 1,
   "metadata": {},
   "outputs": [],
   "source": [
    "import pandas as pd\n",
    "import numpy as np\n",
    "import matplotlib.pyplot as plt\n",
    "import seaborn as sns"
   ]
  },
  {
   "cell_type": "markdown",
   "metadata": {},
   "source": [
    "## **Loading Data set**"
   ]
  },
  {
   "cell_type": "code",
   "execution_count": 4,
   "metadata": {},
   "outputs": [],
   "source": [
    "playStoreApps = pd.read_csv('../datasets/googleplaystore.csv')"
   ]
  },
  {
   "cell_type": "markdown",
   "metadata": {},
   "source": [
    "## **Let's have a look**"
   ]
  },
  {
   "cell_type": "code",
   "execution_count": 58,
   "metadata": {},
   "outputs": [
    {
     "data": {
      "text/html": [
       "<div>\n",
       "<style scoped>\n",
       "    .dataframe tbody tr th:only-of-type {\n",
       "        vertical-align: middle;\n",
       "    }\n",
       "\n",
       "    .dataframe tbody tr th {\n",
       "        vertical-align: top;\n",
       "    }\n",
       "\n",
       "    .dataframe thead th {\n",
       "        text-align: right;\n",
       "    }\n",
       "</style>\n",
       "<table border=\"1\" class=\"dataframe\">\n",
       "  <thead>\n",
       "    <tr style=\"text-align: right;\">\n",
       "      <th></th>\n",
       "      <th>App</th>\n",
       "      <th>Category</th>\n",
       "      <th>Rating</th>\n",
       "      <th>Reviews</th>\n",
       "      <th>Size</th>\n",
       "      <th>Installs</th>\n",
       "      <th>Type</th>\n",
       "      <th>Price</th>\n",
       "      <th>Content Rating</th>\n",
       "      <th>Genres</th>\n",
       "      <th>Last Updated</th>\n",
       "      <th>Current Ver</th>\n",
       "      <th>Android Ver</th>\n",
       "    </tr>\n",
       "  </thead>\n",
       "  <tbody>\n",
       "    <tr>\n",
       "      <th>0</th>\n",
       "      <td>Photo Editor &amp; Candy Camera &amp; Grid &amp; ScrapBook</td>\n",
       "      <td>ART_AND_DESIGN</td>\n",
       "      <td>4.1</td>\n",
       "      <td>159</td>\n",
       "      <td>19922944.0</td>\n",
       "      <td>10000</td>\n",
       "      <td>Free</td>\n",
       "      <td>0.0</td>\n",
       "      <td>Everyone</td>\n",
       "      <td>Art &amp; Design</td>\n",
       "      <td>January 7, 2018</td>\n",
       "      <td>1.0.0</td>\n",
       "      <td>4.0.3 and up</td>\n",
       "    </tr>\n",
       "  </tbody>\n",
       "</table>\n",
       "</div>"
      ],
      "text/plain": [
       "                                              App        Category  Rating  \\\n",
       "0  Photo Editor & Candy Camera & Grid & ScrapBook  ART_AND_DESIGN     4.1   \n",
       "\n",
       "   Reviews        Size  Installs  Type  Price Content Rating        Genres  \\\n",
       "0      159  19922944.0     10000  Free    0.0       Everyone  Art & Design   \n",
       "\n",
       "      Last Updated Current Ver   Android Ver  \n",
       "0  January 7, 2018       1.0.0  4.0.3 and up  "
      ]
     },
     "execution_count": 58,
     "metadata": {},
     "output_type": "execute_result"
    }
   ],
   "source": [
    "playStoreApps.head(1)"
   ]
  },
  {
   "cell_type": "markdown",
   "metadata": {},
   "source": [
    "## 1- What are the top five categories with the highest average ratings for apps?"
   ]
  },
  {
   "cell_type": "code",
   "execution_count": 8,
   "metadata": {},
   "outputs": [
    {
     "data": {
      "text/plain": [
       "<Axes: xlabel='Category'>"
      ]
     },
     "execution_count": 8,
     "metadata": {},
     "output_type": "execute_result"
    },
    {
     "data": {
      "image/png": "[encoded data removed]",
      "text/plain": [
       "<Figure size 640x480 with 1 Axes>"
      ]
     },
     "metadata": {},
     "output_type": "display_data"
    }
   ],
   "source": [
    "playStoreApps.groupby('Category')['Rating'].mean().sort_values(ascending=False).head(5).plot.bar()"
   ]
  },
  {
   "cell_type": "markdown",
   "metadata": {},
   "source": [
    "## 2- Is there a correlation between the size of an app and the number of installations it receives?"
   ]
  },
  {
   "cell_type": "markdown",
   "metadata": {},
   "source": [
    "- To perform any calculation on these columns we need to convert them to numeric"
   ]
  },
  {
   "cell_type": "code",
   "execution_count": 34,
   "metadata": {},
   "outputs": [],
   "source": [
    "def convert_size(size):\n",
    "    # add function details here\n",
    "    '''\n",
    "    This function will convert the size column to numeric by multiplying the values with 1024 if it has 'k' in it and 1024*1024 if it has 'M' in it\n",
    "    '''\n",
    "    \n",
    "    if isinstance(size, str):\n",
    "        if 'k' in size:\n",
    "            return float(size.replace('k', '')) * 1024\n",
    "        elif 'M' in size:\n",
    "            return float(size.replace('M', '')) * 1024 * 1024\n",
    "        elif 'Varies with device' in size:\n",
    "            return np.nan\n",
    "    return size\n",
    "\n",
    "playStoreApps['Size'] = playStoreApps['Size'].apply(convert_size)\n",
    "\n",
    "# remove the plus sign from install column and convert it to numeric\n",
    "playStoreApps['Installs'] = playStoreApps['Installs'].apply(lambda x: x.replace('+', '') if '+' in str(x) else x)\n",
    "# also remove the commas from the install column\n",
    "playStoreApps['Installs'] = playStoreApps['Installs'].apply(lambda x: x.replace(',', '') if ',' in str(x) else x)\n",
    "# convert the install column to numeric (integers because this is the number of installs/count)\n",
    "playStoreApps['Installs'] = playStoreApps['Installs'].apply(lambda x: int(x))\n",
    " "
   ]
  },
  {
   "cell_type": "code",
   "execution_count": 41,
   "metadata": {},
   "outputs": [
    {
     "name": "stdout",
     "output_type": "stream",
     "text": [
      "There is a positive correlation between app size and number of installations (correlation coefficient: 0.16)\n"
     ]
    }
   ],
   "source": [
    "# Calculate the Pearson correlation coefficient between 'Size' and 'Installs' columns\n",
    "correlation = playStoreApps['Size'].corr(playStoreApps['Installs'])\n",
    "\n",
    "# Check if there is a significant correlation\n",
    "if correlation > 0:\n",
    "    result = \"positive correlation\"\n",
    "elif correlation < 0:\n",
    "    result = \"negative correlation\"\n",
    "else:\n",
    "    result = \"no correlation\"\n",
    "\n",
    "print(f\"There is a {result} between app size and number of installations (correlation coefficient: {correlation:.2f})\")\n"
   ]
  },
  {
   "cell_type": "markdown",
   "metadata": {},
   "source": [
    "## 3- Which category has the highest number of reviews on average?\n",
    "\n"
   ]
  },
  {
   "cell_type": "code",
   "execution_count": 51,
   "metadata": {},
   "outputs": [
    {
     "data": {
      "text/plain": [
       "'COMMUNICATION'"
      ]
     },
     "execution_count": 51,
     "metadata": {},
     "output_type": "execute_result"
    }
   ],
   "source": [
    "playStoreApps.groupby('Category')['Reviews'].mean().idxmax()"
   ]
  },
  {
   "cell_type": "markdown",
   "metadata": {},
   "source": [
    "## 4- How does the average price of paid apps compare across different categories?"
   ]
  },
  {
   "cell_type": "code",
   "execution_count": 44,
   "metadata": {},
   "outputs": [],
   "source": [
    "# remove the dollar sign from the price column and convert it to numeric\n",
    "playStoreApps['Price'] = playStoreApps['Price'].apply(lambda x: x.replace('$', '') if '$' in str(x) else x)\n",
    "# convert the price column to numeric (float because this is the price)\n",
    "playStoreApps['Price'] = playStoreApps['Price'].apply(lambda x: float(x))"
   ]
  },
  {
   "cell_type": "code",
   "execution_count": 46,
   "metadata": {},
   "outputs": [
    {
     "name": "stdout",
     "output_type": "stream",
     "text": [
      "Category\n",
      "FINANCE                170.637059\n",
      "LIFESTYLE              124.256316\n",
      "EVENTS                 109.990000\n",
      "BUSINESS                13.233571\n",
      "MEDICAL                 13.210642\n",
      "FAMILY                  12.747539\n",
      "PRODUCTIVITY             8.961786\n",
      "PHOTOGRAPHY              6.100455\n",
      "MAPS_AND_NAVIGATION      5.390000\n",
      "SOCIAL                   5.323333\n",
      "PARENTING                4.790000\n",
      "EDUCATION                4.490000\n",
      "DATING                   4.490000\n",
      "AUTO_AND_VEHICLES        4.490000\n",
      "BOOKS_AND_REFERENCE      4.277500\n",
      "FOOD_AND_DRINK           4.240000\n",
      "HEALTH_AND_FITNESS       4.208750\n",
      "SPORTS                   4.166667\n",
      "TRAVEL_AND_LOCAL         4.162500\n",
      "WEATHER                  4.052500\n",
      "ENTERTAINMENT            3.990000\n",
      "GAME                     3.461446\n",
      "TOOLS                    3.426282\n",
      "COMMUNICATION            3.079259\n",
      "SHOPPING                 2.740000\n",
      "VIDEO_PLAYERS            2.615000\n",
      "NEWS_AND_MAGAZINES       1.990000\n",
      "ART_AND_DESIGN           1.990000\n",
      "PERSONALIZATION          1.854940\n",
      "LIBRARIES_AND_DEMO       0.990000\n",
      "Name: Price, dtype: float64\n"
     ]
    }
   ],
   "source": [
    "# Filter the DataFrame to include only paid apps\n",
    "paid_apps = playStoreApps[playStoreApps['Type'] == 'Paid']\n",
    "\n",
    "# Group the paid apps by category and calculate the average price for each category\n",
    "average_price_by_category = paid_apps.groupby('Category')['Price'].mean()\n",
    "\n",
    "# Sort the categories by average price in descending order\n",
    "sorted_categories = average_price_by_category.sort_values(ascending=False)\n",
    "\n",
    "# Print or visualize the result\n",
    "print(sorted_categories)"
   ]
  },
  {
   "cell_type": "markdown",
   "metadata": {},
   "source": [
    "## 5- What is the distribution of app types (free vs. paid) in the dataset?"
   ]
  },
  {
   "cell_type": "code",
   "execution_count": 48,
   "metadata": {},
   "outputs": [
    {
     "data": {
      "text/plain": [
       "Type\n",
       "Free    10040\n",
       "Paid      800\n",
       "Name: count, dtype: int64"
      ]
     },
     "execution_count": 48,
     "metadata": {},
     "output_type": "execute_result"
    }
   ],
   "source": [
    "# Count the number of apps in each category based on the 'Type' column\n",
    "app_type_distribution = playStoreApps['Type'].value_counts()\n",
    "app_type_distribution"
   ]
  },
  {
   "cell_type": "markdown",
   "metadata": {},
   "source": [
    "## 6- Are there any categories where free apps have significantly higher ratings than paid apps?"
   ]
  },
  {
   "cell_type": "code",
   "execution_count": 52,
   "metadata": {},
   "outputs": [
    {
     "data": {
      "image/png": "[encoded data removed]",
      "text/plain": [
       "<Figure size 1200x600 with 1 Axes>"
      ]
     },
     "metadata": {},
     "output_type": "display_data"
    }
   ],
   "source": [
    "# Separate the dataset into free and paid apps\n",
    "free_apps = playStoreApps[playStoreApps['Type'] == 'Free']\n",
    "paid_apps = playStoreApps[playStoreApps['Type'] == 'Paid']\n",
    "\n",
    "# Calculate the mean ratings for each category in both groups\n",
    "mean_ratings_free = free_apps.groupby('Category')['Rating'].mean()\n",
    "mean_ratings_paid = paid_apps.groupby('Category')['Rating'].mean()\n",
    "\n",
    "# Visualize the comparison\n",
    "plt.figure(figsize=(12, 6))\n",
    "plt.bar(mean_ratings_free.index, mean_ratings_free, label='Free Apps')\n",
    "plt.bar(mean_ratings_paid.index, mean_ratings_paid, label='Paid Apps')\n",
    "plt.xticks(rotation=90)\n",
    "plt.xlabel('Category')\n",
    "plt.ylabel('Average Rating')\n",
    "plt.title('Comparison of Average Ratings Between Free and Paid Apps by Category')\n",
    "plt.legend()\n",
    "plt.show()"
   ]
  },
  {
   "cell_type": "markdown",
   "metadata": {},
   "source": [
    "## 7- What are the top three categories with the highest average number of reviews?"
   ]
  },
  {
   "cell_type": "code",
   "execution_count": 56,
   "metadata": {},
   "outputs": [
    {
     "data": {
      "text/plain": [
       "Category\n",
       "COMMUNICATION    2.107138e+06\n",
       "SOCIAL           2.105903e+06\n",
       "GAME             1.385859e+06\n",
       "Name: Reviews, dtype: float64"
      ]
     },
     "execution_count": 56,
     "metadata": {},
     "output_type": "execute_result"
    }
   ],
   "source": [
    "averrage_reviews_by_category = playStoreApps.groupby('Category')['Reviews'].mean()\n",
    "averrage_reviews_by_category.sort_values(ascending=False).head(3)"
   ]
  },
  {
   "cell_type": "markdown",
   "metadata": {},
   "source": [
    "## 8- Which content rating has the most installed apps on average?"
   ]
  },
  {
   "cell_type": "code",
   "execution_count": 64,
   "metadata": {},
   "outputs": [
    {
     "data": {
      "text/plain": [
       "'Everyone 10+'"
      ]
     },
     "execution_count": 64,
     "metadata": {},
     "output_type": "execute_result"
    }
   ],
   "source": [
    "playStoreApps.groupby('Content Rating')['Installs'].mean().idxmax()"
   ]
  },
  {
   "cell_type": "markdown",
   "metadata": {},
   "source": [
    "## 9- What is the average price difference between paid apps in different categories?"
   ]
  },
  {
   "cell_type": "code",
   "execution_count": 69,
   "metadata": {},
   "outputs": [
    {
     "data": {
      "text/plain": [
       "169.6470588235294"
      ]
     },
     "execution_count": 69,
     "metadata": {},
     "output_type": "execute_result"
    }
   ],
   "source": [
    "paid_apps = playStoreApps[playStoreApps['Type'] == 'Paid']\n",
    "average_price_by_Category = paid_apps.groupby('Category')['Price'].mean()\n",
    "average_price_difference = average_price_by_Category.max() - average_price_by_Category.min()\n",
    "average_price_difference"
   ]
  },
  {
   "cell_type": "markdown",
   "metadata": {},
   "source": [
    "## 10- Which genres tend to have larger app sizes on average?"
   ]
  },
  {
   "cell_type": "code",
   "execution_count": 71,
   "metadata": {},
   "outputs": [
    {
     "data": {
      "text/plain": [
       "Genres\n",
       "Lifestyle;Pretend Play                 104857600.0\n",
       "Adventure;Education                     96468992.0\n",
       "Arcade;Pretend Play                     95420416.0\n",
       "Role Playing;Education                  87031808.0\n",
       "Health & Fitness;Action & Adventure     87031808.0\n",
       "                                          ...     \n",
       "Art & Design;Action & Adventure          7340032.0\n",
       "Parenting;Brain Games                    3460300.8\n",
       "Communication;Creativity                       NaN\n",
       "Lifestyle;Education                            NaN\n",
       "Tools;Education                                NaN\n",
       "Name: Size, Length: 119, dtype: float64"
      ]
     },
     "execution_count": 71,
     "metadata": {},
     "output_type": "execute_result"
    }
   ],
   "source": [
    "playStoreApps.groupby('Genres')['Size'].mean().sort_values(ascending=False)"
   ]
  },
  {
   "cell_type": "markdown",
   "metadata": {},
   "source": [
    "## 11- What are the top three genres with the highest average ratings?"
   ]
  },
  {
   "cell_type": "code",
   "execution_count": 73,
   "metadata": {},
   "outputs": [
    {
     "data": {
      "text/plain": [
       "Genres\n",
       "Comics;Creativity             4.8\n",
       "Board;Pretend Play            4.8\n",
       "Health & Fitness;Education    4.7\n",
       "Name: Rating, dtype: float64"
      ]
     },
     "execution_count": 73,
     "metadata": {},
     "output_type": "execute_result"
    }
   ],
   "source": [
    "playStoreApps.groupby('Genres')['Rating'].mean().sort_values(ascending=False).head(3)"
   ]
  },
  {
   "cell_type": "markdown",
   "metadata": {},
   "source": [
    "## 12- Which categories tend to have a higher proportion of paid apps?"
   ]
  },
  {
   "cell_type": "code",
   "execution_count": 95,
   "metadata": {},
   "outputs": [
    {
     "data": {
      "text/plain": [
       "Category\n",
       "MEDICAL                0.235421\n",
       "PERSONALIZATION        0.211735\n",
       "BOOKS_AND_REFERENCE    0.121212\n",
       "WEATHER                0.097561\n",
       "FAMILY                 0.096856\n",
       "TOOLS                  0.092527\n",
       "GAME                   0.072552\n",
       "COMMUNICATION          0.069767\n",
       "PRODUCTIVITY           0.066038\n",
       "PHOTOGRAPHY            0.065672\n",
       "SPORTS                 0.062500\n",
       "LIFESTYLE              0.049738\n",
       "HEALTH_AND_FITNESS     0.046921\n",
       "TRAVEL_AND_LOCAL       0.046512\n",
       "FINANCE                0.046448\n",
       "ART_AND_DESIGN         0.046154\n",
       "MAPS_AND_NAVIGATION    0.036496\n",
       "AUTO_AND_VEHICLES      0.035294\n",
       "PARENTING              0.033333\n",
       "BUSINESS               0.030435\n",
       "DATING                 0.029915\n",
       "EDUCATION              0.025641\n",
       "VIDEO_PLAYERS          0.022857\n",
       "FOOD_AND_DRINK         0.015748\n",
       "EVENTS                 0.015625\n",
       "ENTERTAINMENT          0.013423\n",
       "LIBRARIES_AND_DEMO     0.011765\n",
       "SOCIAL                 0.010169\n",
       "SHOPPING               0.007692\n",
       "NEWS_AND_MAGAZINES     0.007067\n",
       "BEAUTY                      NaN\n",
       "COMICS                      NaN\n",
       "HOUSE_AND_HOME              NaN\n",
       "Name: App, dtype: float64"
      ]
     },
     "execution_count": 95,
     "metadata": {},
     "output_type": "execute_result"
    }
   ],
   "source": [
    "x = paid_apps.groupby('Category')['App'].count() / playStoreApps.groupby('Category')['App'].count()\n",
    "x.sort_values(ascending=False)"
   ]
  },
  {
   "cell_type": "markdown",
   "metadata": {},
   "source": [
    "## 13- Are there any specific genres that tend to receive more reviews per installation? "
   ]
  },
  {
   "cell_type": "code",
   "execution_count": 96,
   "metadata": {},
   "outputs": [
    {
     "data": {
      "text/plain": [
       "Genres\n",
       "Strategy;Creativity                0.129542\n",
       "Strategy;Action & Adventure        0.111900\n",
       "Card;Action & Adventure            0.110830\n",
       "Simulation;Pretend Play            0.106006\n",
       "Health & Fitness;Education         0.098560\n",
       "                                     ...   \n",
       "Parenting;Brain Games              0.003614\n",
       "Music & Audio;Music & Video        0.002738\n",
       "Racing;Pretend Play                0.002200\n",
       "Art & Design;Pretend Play          0.001941\n",
       "Art & Design;Action & Adventure    0.000630\n",
       "Name: Reviews_per_Install, Length: 119, dtype: float64"
      ]
     },
     "execution_count": 96,
     "metadata": {},
     "output_type": "execute_result"
    }
   ],
   "source": [
    "# Calculate the reviews-to-installs ratio for each app\n",
    "playStoreApps['Reviews_per_Install'] = playStoreApps['Reviews'] / playStoreApps['Installs']\n",
    "\n",
    "# Group by 'Genres' and calculate the average reviews-to-installs ratio\n",
    "genre_reviews_ratio = playStoreApps.groupby('Genres')['Reviews_per_Install'].mean()\n",
    "\n",
    "# Sort the genres by the average ratio in descending order\n",
    "sorted_genres = genre_reviews_ratio.sort_values(ascending=False)\n",
    "sorted_genres"
   ]
  },
  {
   "cell_type": "markdown",
   "metadata": {},
   "source": [
    "## 14- Which app has the highest number of reviews, and in which category does it belong?"
   ]
  },
  {
   "cell_type": "code",
   "execution_count": 100,
   "metadata": {},
   "outputs": [
    {
     "name": "stdout",
     "output_type": "stream",
     "text": [
      "App with the Highest Reviews: Facebook\n",
      "Category: SOCIAL\n"
     ]
    }
   ],
   "source": [
    "# Sort the DataFrame in descending order by 'Reviews' and select the first row\n",
    "highest_reviews_app = playStoreApps.sort_values(by='Reviews', ascending=False).iloc[0]\n",
    "# Retrieve the 'App' name and 'Category' for the app with the highest reviews\n",
    "highest_reviews_app_name = highest_reviews_app['App']\n",
    "highest_reviews_app_category = highest_reviews_app['Category']\n",
    "\n",
    "print(\"App with the Highest Reviews:\", highest_reviews_app_name)\n",
    "print(\"Category:\", highest_reviews_app_category)"
   ]
  },
  {
   "cell_type": "markdown",
   "metadata": {},
   "source": [
    "\n",
    "## 15- What are the most common words in the app names, and do they correlate with higher ratings?"
   ]
  },
  {
   "cell_type": "code",
   "execution_count": 107,
   "metadata": {},
   "outputs": [
    {
     "name": "stdout",
     "output_type": "stream",
     "text": [
      "Categories with Highest Average Price:\n",
      "               Price  Installs\n",
      "Category                      \n",
      "FINANCE   170.637059    185602\n",
      "\n",
      "Categories with Highest Total Installs:\n",
      "              Price  Installs\n",
      "Category                     \n",
      "FAMILY    12.747539  31271814\n"
     ]
    }
   ],
   "source": [
    "# Filter for paid apps\n",
    "paid_apps = playStoreApps[playStoreApps['Type'] == 'Paid']\n",
    "\n",
    "# Group by 'Category' and calculate the average price and total installs for each category\n",
    "category_stats = paid_apps.groupby('Category').agg({'Price': 'mean', 'Installs': 'sum'})\n",
    "\n",
    "# Sort the categories by average price and total installs in descending order\n",
    "sorted_categories_price = category_stats.sort_values(by='Price', ascending=False)\n",
    "sorted_categories_installs = category_stats.sort_values(by='Installs', ascending=False)\n",
    "\n",
    "print(\"Categories with Highest Average Price:\")\n",
    "print(sorted_categories_price.head(1))  # Change '1' to see more top categories\n",
    "\n",
    "print(\"\\nCategories with Highest Total Installs:\")\n",
    "print(sorted_categories_installs.head(1))  # Change '1' to see more top categories\n",
    "\n",
    "\n"
   ]
  }
 ],
 "metadata": {
  "kernelspec": {
   "display_name": "ydata_profiling",
   "language": "python",
   "name": "python3"
  },
  "language_info": {
   "codemirror_mode": {
    "name": "ipython",
    "version": 3
   },
   "file_extension": ".py",
   "mimetype": "text/x-python",
   "name": "python",
   "nbconvert_exporter": "python",
   "pygments_lexer": "ipython3",
   "version": "3.10.13"
  }
 },
 "nbformat": 4,
 "nbformat_minor": 2
}
