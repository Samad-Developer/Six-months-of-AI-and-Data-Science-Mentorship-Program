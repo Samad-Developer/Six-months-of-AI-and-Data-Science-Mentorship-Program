{
 "cells": [
  {
   "cell_type": "code",
   "execution_count": 1,
   "metadata": {},
   "outputs": [],
   "source": [
    "# import libraries\n",
    "import pandas as pd\n",
    "import numpy as np\n",
    "import seaborn as sns\n",
    "import matplotlib.pyplot as plt\n",
    "import plotly.express as px"
   ]
  },
  {
   "cell_type": "code",
   "execution_count": 5,
   "metadata": {},
   "outputs": [],
   "source": [
    "kahsti = sns.load_dataset('titanic')"
   ]
  },
  {
   "cell_type": "code",
   "execution_count": 6,
   "metadata": {},
   "outputs": [
    {
     "ename": "ModuleNotFoundError",
     "evalue": "No module named 'Plotly'",
     "output_type": "error",
     "traceback": [
      "\u001b[1;31m---------------------------------------------------------------------------\u001b[0m",
      "\u001b[1;31mModuleNotFoundError\u001b[0m                       Traceback (most recent call last)",
      "\u001b[1;32mf:\\Six months of AI and Data Science Mentorship Program\\Data Visualization\\plotly_Visualization\\1.ipynb Cell 3\u001b[0m line \u001b[0;36m2\n\u001b[0;32m      <a href='vscode-notebook-cell:/f%3A/Six%20months%20of%20AI%20and%20Data%20Science%20Mentorship%20Program/Data%20Visualization/plotly_Visualization/1.ipynb#W2sZmlsZQ%3D%3D?line=0'>1</a>\u001b[0m \u001b[39m# create ploty scatter plot\u001b[39;00m\n\u001b[1;32m----> <a href='vscode-notebook-cell:/f%3A/Six%20months%20of%20AI%20and%20Data%20Science%20Mentorship%20Program/Data%20Visualization/plotly_Visualization/1.ipynb#W2sZmlsZQ%3D%3D?line=1'>2</a>\u001b[0m \u001b[39mimport\u001b[39;00m \u001b[39mPlotly\u001b[39;00m\u001b[39m.\u001b[39;00m\u001b[39mgraph_objs\u001b[39;00m \u001b[39mas\u001b[39;00m \u001b[39mgo\u001b[39;00m\n\u001b[0;32m      <a href='vscode-notebook-cell:/f%3A/Six%20months%20of%20AI%20and%20Data%20Science%20Mentorship%20Program/Data%20Visualization/plotly_Visualization/1.ipynb#W2sZmlsZQ%3D%3D?line=2'>3</a>\u001b[0m \u001b[39mfrom\u001b[39;00m \u001b[39mplotly\u001b[39;00m\u001b[39m.\u001b[39;00m\u001b[39moffline\u001b[39;00m \u001b[39mimport\u001b[39;00m download_plotlyjs, init_notebook_mode, iplot\n\u001b[0;32m      <a href='vscode-notebook-cell:/f%3A/Six%20months%20of%20AI%20and%20Data%20Science%20Mentorship%20Program/Data%20Visualization/plotly_Visualization/1.ipynb#W2sZmlsZQ%3D%3D?line=3'>4</a>\u001b[0m init_notebook_mode(connected\u001b[39m=\u001b[39m\u001b[39mTrue\u001b[39;00m)\n",
      "\u001b[1;31mModuleNotFoundError\u001b[0m: No module named 'Plotly'"
     ]
    }
   ],
   "source": [
    "# create ploty scatter plot\n",
    "import Plotly.graph_objs as go\n",
    "from plotly.offline import download_plotlyjs, init_notebook_mode, iplot\n",
    "init_notebook_mode(connected=True)\n",
    "# Create random data with numpy\n",
    "import numpy as np\n",
    "np.random.seed(1)\n",
    "N = 100\n",
    "random_x = np.linspace(0, 1, N)\n",
    "random_y0 = np.random.randn(N)+5\n",
    "random_y1 = np.random.randn(N)\n",
    "colors = ['red', 'blue']\n",
    "# Create traces\n",
    "traces = [go.Scatter(\n",
    "    x = random_x,\n",
    "    y = random_y0,\n",
    "    mode='markers',\n",
    "    name = 'group {}'.format(i),\n",
    "    marker = dict(color=colors[i%2])\n",
    "    ) for i in range(4)]\n",
    "data = traces + [go.Scatter(\n",
    "    x = random_x,\n",
    "    y = random_y1,\n",
    "    mode='lines+markers',\n",
    "    name = 'lines and markers'\n",
    "    )]\n"
   ]
  }
 ],
 "metadata": {
  "kernelspec": {
   "display_name": "ydata_profiling",
   "language": "python",
   "name": "python3"
  },
  "language_info": {
   "codemirror_mode": {
    "name": "ipython",
    "version": 3
   },
   "file_extension": ".py",
   "mimetype": "text/x-python",
   "name": "python",
   "nbconvert_exporter": "python",
   "pygments_lexer": "ipython3",
   "version": "3.10.13"
  }
 },
 "nbformat": 4,
 "nbformat_minor": 2
}
