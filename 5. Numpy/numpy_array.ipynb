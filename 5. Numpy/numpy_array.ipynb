{
 "cells": [
  {
   "cell_type": "markdown",
   "metadata": {},
   "source": [
    "# Intrductin to Numpy"
   ]
  },
  {
   "cell_type": "code",
   "execution_count": 73,
   "metadata": {},
   "outputs": [],
   "source": [
    "import numpy as np\n",
    "import pandas as pd"
   ]
  },
  {
   "cell_type": "markdown",
   "metadata": {},
   "source": [
    "# Reading the example code"
   ]
  },
  {
   "cell_type": "code",
   "execution_count": 74,
   "metadata": {},
   "outputs": [
    {
     "name": "stdout",
     "output_type": "stream",
     "text": [
      "Original Array  [1 2 3 4 5 6 7 8]\n",
      "Data type of Array  int32\n",
      "shape of Array  (8,)\n"
     ]
    }
   ],
   "source": [
    "# one dimension numpy array\n",
    "oneD = np.array([1,2,3,4,5,6,7,8])\n",
    "print(\"Original Array \" , oneD)\n",
    "print(\"Data type of Array \", oneD.dtype)\n",
    "print(\"shape of Array \", oneD.shape)"
   ]
  },
  {
   "cell_type": "code",
   "execution_count": 75,
   "metadata": {},
   "outputs": [
    {
     "name": "stdout",
     "output_type": "stream",
     "text": [
      "Original Array  [[1 2 3]\n",
      " [4 5 6]\n",
      " [7 8 9]]\n",
      "Data type of Array  int32\n",
      "shape of Array  (3, 3)\n"
     ]
    }
   ],
   "source": [
    "# Two dimension numpy array\n",
    "twoD = np.array([[1, 2, 3], [4, 5, 6], [7, 8, 9]])\n",
    "print(\"Original Array \", twoD)\n",
    "print(\"Data type of Array \", twoD.dtype)\n",
    "print(\"shape of Array \", twoD.shape)"
   ]
  },
  {
   "cell_type": "markdown",
   "metadata": {},
   "source": [
    "# How to create a basic array"
   ]
  },
  {
   "cell_type": "markdown",
   "metadata": {},
   "source": [
    "This section covers np.array(), np.zeros(), np.ones(), np.empty(), np.arange(), np.linspace(), dtype"
   ]
  },
  {
   "cell_type": "code",
   "execution_count": 76,
   "metadata": {},
   "outputs": [
    {
     "name": "stdout",
     "output_type": "stream",
     "text": [
      "Simple Array :  [1 2 3]\n",
      "Zeros Array :  [0. 0. 0. 0. 0.]\n",
      "Ones Array :  [1. 1. 1. 1. 1.]\n",
      "Empty Array :  [1. 1. 1. 1. 1.]\n"
     ]
    }
   ],
   "source": [
    "# To create a NumPy array, you can use the function np.array().\n",
    "simpleArr = np.array([1, 2, 3])\n",
    "print(\"Simple Array : \", simpleArr)\n",
    "\n",
    "# Array of zeros\n",
    "zerosArr = np.zeros(5)\n",
    "print(\"Zeros Array : \", zerosArr)\n",
    "\n",
    "# Array of ones\n",
    "onesArr = np.ones(5)\n",
    "print(\"Ones Array : \", onesArr)\n",
    "\n",
    "# empty Array\n",
    "emptyArr = np.empty(5)\n",
    "print(\"Empty Array : \", emptyArr)"
   ]
  },
  {
   "cell_type": "markdown",
   "metadata": {},
   "source": [
    "# Numpy Arange()"
   ]
  },
  {
   "cell_type": "code",
   "execution_count": 77,
   "metadata": {},
   "outputs": [
    {
     "name": "stdout",
     "output_type": "stream",
     "text": [
      "Range Array :  [0 1 2 3 4 5 6 7 8 9]\n",
      "Range Array :  [5 6 7 8 9]\n",
      "Even Array :  [0 2 4 6 8]\n"
     ]
    }
   ],
   "source": [
    "# arange(stop)\n",
    "rangeArr = np.arange(10)\n",
    "print(\"Range Array : \", rangeArr)\n",
    "\n",
    "# arange(start, stop)\n",
    "rangeArr = np.arange(5, 10)\n",
    "print(\"Range Array : \", rangeArr)\n",
    "\n",
    "''' And even an array that contains a range of evenly spaced intervals.\n",
    "To do this, you will specify the first number, last number, and the step size.'''\n",
    "# start stop and step\n",
    "evenArr = np.arange(0, 10, 2)\n",
    "print(\"Even Array : \", evenArr)"
   ]
  },
  {
   "cell_type": "markdown",
   "metadata": {},
   "source": [
    "# Numpy linspace()"
   ]
  },
  {
   "cell_type": "code",
   "execution_count": 78,
   "metadata": {},
   "outputs": [
    {
     "name": "stdout",
     "output_type": "stream",
     "text": [
      "First Example :  [2.  3.5 5.  6.5 8. ]\n",
      "Second Example :  [2.  3.2 4.4 5.6 6.8]\n",
      "Third Example :  (array([2. , 3.5, 5. , 6.5, 8. ]), 1.5)\n"
     ]
    }
   ],
   "source": [
    "# Return evenly spaced numbers over a specified interval.\n",
    "\n",
    "linearSpace1 = np.linspace(2, 8, num=5)\n",
    "print(\"First Example : \", linearSpace1)\n",
    "\n",
    "# you can optionally exclude the end point\n",
    "linearSpace2 = np.linspace(2, 8, num=5, endpoint=False)\n",
    "print(\"Second Example : \", linearSpace2)\n",
    "\n",
    "# If you want to know the exact distance between the generated values\n",
    "# than use retstep\n",
    "linearSpace3 = np.linspace(2, 8, num=5, retstep=True)\n",
    "print(\"Third Example : \", linearSpace3)"
   ]
  },
  {
   "cell_type": "markdown",
   "metadata": {},
   "source": [
    "# Adding, removing, and sorting elements"
   ]
  },
  {
   "cell_type": "code",
   "execution_count": 79,
   "metadata": {},
   "outputs": [
    {
     "name": "stdout",
     "output_type": "stream",
     "text": [
      "Before Sorting :  [11 17  5 14  8]\n",
      "After Sorting :  [ 5  8 11 14 17]\n"
     ]
    }
   ],
   "source": [
    "# Sorting an element is simple with np.sort()\n",
    "arr = np.array([11,17,5,14,8])\n",
    "print('Before Sorting : ', arr)\n",
    "print('After Sorting : ', np.sort(arr))"
   ]
  },
  {
   "cell_type": "code",
   "execution_count": 80,
   "metadata": {},
   "outputs": [
    {
     "name": "stdout",
     "output_type": "stream",
     "text": [
      "Combined Array :  [1 2 3 4 5 6 4 6 7 8]\n"
     ]
    }
   ],
   "source": [
    "# You can concatenate them with np.concatenate().\n",
    "arr1 = np.array([1, 2, 3])\n",
    "arr2 = np.array([4, 5, 6, 4, 6, 7, 8])\n",
    "combinedArr = np.concatenate((arr1,arr2))\n",
    "print(\"Combined Array : \", combinedArr)"
   ]
  },
  {
   "cell_type": "code",
   "execution_count": 81,
   "metadata": {},
   "outputs": [
    {
     "data": {
      "text/plain": [
       "array([4, 5, 6, 4])"
      ]
     },
     "execution_count": 81,
     "metadata": {},
     "output_type": "execute_result"
    }
   ],
   "source": [
    "# For deletion the you can do indexing to select the values you want\n",
    "combinedArr[3:7]"
   ]
  },
  {
   "cell_type": "markdown",
   "metadata": {},
   "source": [
    "# How do you know the shape and size of an array?"
   ]
  },
  {
   "cell_type": "markdown",
   "metadata": {},
   "source": [
    "This section covers ndarray.ndim, ndarray.size, ndarray.shape"
   ]
  },
  {
   "cell_type": "code",
   "execution_count": 82,
   "metadata": {},
   "outputs": [],
   "source": [
    "array_example = np.array([[[0, 1, 2, 3],\n",
    "                           [4, 5, 6, 7]],\n",
    "\n",
    "                          [[0, 1, 2, 3],\n",
    "                           [4, 5, 6, 7]],\n",
    "\n",
    "                          [[0 ,1 ,2, 3],\n",
    "                           [4, 5, 6, 7]]])"
   ]
  },
  {
   "cell_type": "code",
   "execution_count": 83,
   "metadata": {},
   "outputs": [
    {
     "name": "stdout",
     "output_type": "stream",
     "text": [
      "Dimension of Array :  3\n",
      "Shape of the Array :  (3, 2, 4)\n",
      "Size of Array 24\n"
     ]
    }
   ],
   "source": [
    "# To find the number of dimensions of the array, run:\n",
    "print(\"Dimension of Array : \",array_example.ndim)\n",
    "\n",
    "# To find the shape of the array, run:\n",
    "print(\"Shape of the Array : \",array_example.shape)\n",
    "\n",
    "# To find the size of the array, run:\n",
    "print(\"Size of Array\",array_example.size)"
   ]
  },
  {
   "cell_type": "markdown",
   "metadata": {},
   "source": [
    "# Can you reshape an array?\n",
    "# Yes!"
   ]
  },
  {
   "cell_type": "code",
   "execution_count": 84,
   "metadata": {},
   "outputs": [
    {
     "name": "stdout",
     "output_type": "stream",
     "text": [
      "[0 1 2 3 4 5]\n",
      "(6,)\n",
      "[[0 1]\n",
      " [2 3]\n",
      " [4 5]]\n",
      "(3, 2)\n",
      "[[0 1 2 3 4 5]]\n",
      "(1, 6)\n"
     ]
    }
   ],
   "source": [
    "a = np.arange(6)\n",
    "print(a)\n",
    "print(a.shape)\n",
    "b = a.reshape(3, 2)\n",
    "print(b)\n",
    "print(b.shape)\n",
    "c = b.reshape(1,6)\n",
    "print(c)\n",
    "print(c.shape)"
   ]
  },
  {
   "cell_type": "markdown",
   "metadata": {},
   "source": [
    "# How to convert a 1D array into a 2D array"
   ]
  },
  {
   "cell_type": "code",
   "execution_count": 85,
   "metadata": {},
   "outputs": [
    {
     "name": "stdout",
     "output_type": "stream",
     "text": [
      "(6,)\n",
      "(1, 6)\n",
      "(6, 1)\n"
     ]
    }
   ],
   "source": [
    "originalArr = np.array([1, 2, 3, 4, 5, 6])\n",
    "print(originalArr.shape)\n",
    "row_vector = originalArr[np.newaxis, :]\n",
    "print(row_vector.shape)\n",
    "col_vector = originalArr[:, np.newaxis]\n",
    "print(col_vector.shape)"
   ]
  },
  {
   "cell_type": "markdown",
   "metadata": {},
   "source": [
    "# Basic Array operations"
   ]
  },
  {
   "cell_type": "code",
   "execution_count": 86,
   "metadata": {},
   "outputs": [
    {
     "name": "stdout",
     "output_type": "stream",
     "text": [
      "1\n",
      "[3 4 5]\n",
      "[2 3 4 5 6]\n",
      "[1 7 3 4 5 6]\n",
      "[ 3 11  9 12 15 18]\n",
      "[-1  3 -3 -4 -5 -6]\n",
      "[ 2 28 18 32 50 72]\n",
      "[0.5  1.75 0.5  0.5  0.5  0.5 ]\n",
      "26\n",
      "4.333333333333333\n",
      "7\n",
      "1\n"
     ]
    }
   ],
   "source": [
    "# basic array operation\n",
    "arr = np.array([1, 2, 3, 4, 5, 6])\n",
    "arr2 = np.array([2, 4, 6, 8, 10, 12])\n",
    "\n",
    "# Accessing elements\n",
    "print(arr[0])  # Output: 1\n",
    "print(arr[2:5])  # Output: [3, 4, 5]\n",
    "print(arr[1:]) \n",
    "\n",
    "# Updating elements\n",
    "arr[1] = 7\n",
    "print(arr)  # Output: [1, 7, 3, 4, 5, 6]\n",
    "\n",
    "# Arithmetic operations\n",
    "sum_arr = arr + arr2\n",
    "print(sum_arr)  # Output: [3, 11, 9, 12, 15, 18]\n",
    "\n",
    "diff_arr = arr - arr2\n",
    "print(diff_arr)  # Output: [-1, 3, -3, -4, -5, -6]\n",
    "\n",
    "prod_arr = arr * arr2\n",
    "print(prod_arr)  # Output: [2, 28, 18, 32, 50, 72]\n",
    "\n",
    "div_arr = arr / arr2\n",
    "print(div_arr)  # Output: [0.5, 1.75, 0.5, 0.5, 0.5, 0.5]\n",
    "\n",
    "# Aggregation functions\n",
    "print(np.sum(arr))  # Output: 26\n",
    "print(np.mean(arr)) # Output: 4.333333333333333\n",
    "print(np.max(arr))  # Output: 7\n",
    "print(np.min(arr))  # Output: 1"
   ]
  },
  {
   "cell_type": "code",
   "execution_count": 87,
   "metadata": {},
   "outputs": [
    {
     "name": "stdout",
     "output_type": "stream",
     "text": [
      "Minimum element in each Row [0.12697628 0.05093587 0.26590556 0.5510652 ]\n",
      "Minimum element in each Column [0.17296777 0.05093587 0.12697628]\n"
     ]
    }
   ],
   "source": [
    "a = np.array([[0.45053314, 0.17296777, 0.34376245, 0.5510652],\n",
    "              [0.54627315, 0.05093587, 0.40067661, 0.55645993],\n",
    "              [0.12697628, 0.82485143, 0.26590556, 0.56917101]])\n",
    "print(\"Minimum element in each Row\", a.min(axis=0))  \n",
    "print(\"Minimum element in each Column\", a.min(axis=1)) "
   ]
  },
  {
   "cell_type": "code",
   "execution_count": 134,
   "metadata": {},
   "outputs": [
    {
     "name": "stdout",
     "output_type": "stream",
     "text": [
      "(3, 4)\n",
      "   0  1  2  3\n",
      "0  7  8  4  4\n",
      "1  1  7  6  9\n",
      "2  4  1  5  9\n"
     ]
    }
   ],
   "source": [
    "# generating random number in numpy\n"
   ]
  }
 ],
 "metadata": {
  "kernelspec": {
   "display_name": "ydata_profiling",
   "language": "python",
   "name": "python3"
  },
  "language_info": {
   "codemirror_mode": {
    "name": "ipython",
    "version": 3
   },
   "file_extension": ".py",
   "mimetype": "text/x-python",
   "name": "python",
   "nbconvert_exporter": "python",
   "pygments_lexer": "ipython3",
   "version": "3.10.13"
  }
 },
 "nbformat": 4,
 "nbformat_minor": 2
}
