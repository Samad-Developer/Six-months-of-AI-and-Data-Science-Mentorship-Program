{
 "cells": [
  {
   "cell_type": "code",
   "execution_count": null,
   "metadata": {},
   "outputs": [],
   "source": []
  },
  {
   "cell_type": "markdown",
   "metadata": {},
   "source": [
    "Assignment: Types of Numbers\n",
    "\n",
    "Table: \n",
    "\n",
    "| Name         | Description    | Examples |\n",
    "|--------------|----------------|----------|\n",
    "| Natural      | Natural numbers are positive whole numbers that are used for counting and ordering. They do not include zero or negative numbers. | 1, 2, 3, 4, 5, ... |\n",
    "| Whole        | Whole numbers are similar to natural numbers, but they include zero. They represent quantities without fractions or decimals. | 0, 1, 2, 3, 4, ... |\n",
    "| Integer      | Integers are a set of positive and negative whole numbers, including zero. They can be represented on the number line. | ..., -3, -2, -1, 0, 1, 2, 3, ... |\n",
    "| Rational     | Rational numbers are numbers that can be expressed as fractions, where the numerator and denominator are both integers. They can be represented as terminating decimals or repeating decimals. | 1/2, -3/4, 0.25, 0.333..., ... |\n",
    "| Irrational   | Irrational numbers are numbers that cannot be expressed as fractions and have non-terminating and non-repeating decimal expansions. They are usually represented by symbols or approximate values. | √2, π, e, ... |\n",
    "| Real         | Real numbers include both rational and irrational numbers. They are numbers that can be located on the number line and can have decimal representations. | 2, -0.5, √5, π, ... |\n",
    "| Complex      | Complex numbers are numbers of the form a + bi, where a and b are real numbers and i is the imaginary unit (√-1). They consist of a real part and an imaginary part. | 3 + 2i, -1 - 4i, 2 + 0i, ... |\n",
    "\n",
    "Please complete the assignment by providing a detailed description and additional examples for each type of number mentioned in the table."
   ]
  }
 ],
 "metadata": {
  "kernelspec": {
   "display_name": "ydata_profiling",
   "language": "python",
   "name": "python3"
  },
  "language_info": {
   "name": "python",
   "version": "3.10.13"
  }
 },
 "nbformat": 4,
 "nbformat_minor": 2
}
